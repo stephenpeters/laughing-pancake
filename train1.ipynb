{
  "nbformat": 4,
  "nbformat_minor": 0,
  "metadata": {
    "colab": {
      "provenance": [],
      "machine_shape": "hm",
      "gpuType": "A100",
      "authorship_tag": "ABX9TyOQGG6R21LuAgHucBIEKP+z",
      "include_colab_link": true
    },
    "kernelspec": {
      "name": "python3",
      "display_name": "Python 3"
    },
    "language_info": {
      "name": "python"
    },
    "accelerator": "GPU"
  },
  "cells": [
    {
      "cell_type": "markdown",
      "metadata": {
        "id": "view-in-github",
        "colab_type": "text"
      },
      "source": [
        "<a href=\"https://colab.research.google.com/github/stephenpeters/laughing-pancake/blob/main/train1.ipynb\" target=\"_parent\"><img src=\"https://colab.research.google.com/assets/colab-badge.svg\" alt=\"Open In Colab\"/></a>"
      ]
    },
    {
      "cell_type": "code",
      "execution_count": null,
      "metadata": {
        "id": "Zzu5pK5sWjU-"
      },
      "outputs": [],
      "source": [
        "!pip install autotrain-advanced\n",
        "!pip install huggingface_hub"
      ]
    },
    {
      "cell_type": "code",
      "source": [
        "!autotrain setup --update-torch"
      ],
      "metadata": {
        "id": "Gw9r-QYvWrG_"
      },
      "execution_count": null,
      "outputs": []
    },
    {
      "cell_type": "code",
      "source": [
        "from huggingface_hub import notebook_login\n",
        "notebook_login()"
      ],
      "metadata": {
        "id": "LFlloEITWuL9"
      },
      "execution_count": null,
      "outputs": []
    },
    {
      "cell_type": "code",
      "source": [
        "!autotrain llm \\\n",
        "--train --project_name 'llama2-krimson1' \\\n",
        "--model TinyPixel/Llama-2-7B-bf16-sharded \\\n",
        "--data_path SlytheeTove/MerryPossum \\\n",
        "--text_column text \\\n",
        "--use_peft \\\n",
        "--use_int4 \\\n",
        "--learning_rate 2e-4 \\\n",
        "--train_batch_size 2 \\\n",
        "--num_train_epochs 3 \\\n",
        "--trainer sft \\\n",
        "--model_max_length 2048 \\\n",
        "--push_to_hub \\\n",
        "--repo_id SlytheeTove/TickledPossum \\\n",
        "--block_size 2048 > training.log &"
      ],
      "metadata": {
        "id": "J2Vt7oLXWxaU"
      },
      "execution_count": null,
      "outputs": []
    }
  ]
}